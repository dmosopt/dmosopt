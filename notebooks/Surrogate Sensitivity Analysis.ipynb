{
 "cells": [
  {
   "cell_type": "code",
   "execution_count": 1,
   "metadata": {},
   "outputs": [
    {
     "name": "stdout",
     "output_type": "stream",
     "text": [
      "dmosopt.discrepancy: Warning: unable to import numba\n",
      "dmosopt.GLP: Warning: unable to import numba\n"
     ]
    }
   ],
   "source": [
    "import os, sys, logging, time, gc, pprint\n",
    "import click\n",
    "import numpy as np\n",
    "from dmosopt.dmosopt import init_from_h5\n",
    "from dmosopt.MOASMO import train\n",
    "from joblib import dump, load\n",
    "import matplotlib.pyplot as plt"
   ]
  },
  {
   "cell_type": "code",
   "execution_count": 2,
   "metadata": {},
   "outputs": [],
   "source": [
    "file_path = '/home/igr/src/model/XPPcode/results/MC_20220117/dmosopt_DG_MC.h5'\n",
    "opt_id = 'dmosopt_DG_MC_neuron'"
   ]
  },
  {
   "cell_type": "code",
   "execution_count": 3,
   "metadata": {},
   "outputs": [],
   "source": [
    "_, old_evals, param_names, is_int, lo_bounds, hi_bounds, objective_names, feature_names, \\\n",
    "constraint_names, problem_parameters, problem_ids = \\\n",
    "                  init_from_h5(file_path, None, opt_id, None)\n",
    "\n",
    "\n",
    "logging.basicConfig(level=logging.INFO)\n",
    "logger = logging.getLogger(opt_id)\n",
    "\n",
    "problem_id = 0\n",
    "\n",
    "old_eval_xs = [e.parameters for e in old_evals[problem_id]]\n",
    "old_eval_ys = [e.objectives for e in old_evals[problem_id]]\n",
    "x = np.vstack(old_eval_xs)\n",
    "y = np.vstack(old_eval_ys)\n",
    "od_eval_fs = None\n",
    "f = None\n",
    "if feature_names is not None:\n",
    "    old_eval_fs = [e.features for e in old_evals[problem_id]]\n",
    "    f = np.concatenate(old_eval_fs, axis=None)\n",
    "        \n",
    "old_eval_cs = None\n",
    "c = None\n",
    "if constraint_names is not None:\n",
    "    old_eval_cs = [e.constraints for e in old_evals[problem_id]]\n",
    "    c = np.vstack(old_eval_cs)\n",
    "        \n",
    "x = np.vstack(old_eval_xs)\n",
    "y = np.vstack(old_eval_ys)\n",
    "\n",
    "\n",
    "n_dim = len(lo_bounds)\n",
    "n_objectives = len(objective_names)\n",
    "        \n",
    " "
   ]
  },
  {
   "cell_type": "code",
   "execution_count": 4,
   "metadata": {},
   "outputs": [
    {
     "data": {
      "text/plain": [
       "array([[3.63921204e+02, 1.11581451e+02, 2.72732861e+03, 0.00000000e+00,\n",
       "        2.71145463e-01],\n",
       "       [4.06700928e+03, 1.05103836e+02, 3.73967847e+03, 0.00000000e+00,\n",
       "        2.68360555e-01],\n",
       "       [0.00000000e+00, 1.07110573e+02, 1.10413855e+03, 0.00000000e+00,\n",
       "        2.56254584e-01],\n",
       "       ...,\n",
       "       [5.84632874e+02, 9.25538540e+00, 4.10493530e+02, 0.00000000e+00,\n",
       "        2.63833731e-01],\n",
       "       [2.37995605e+03, 1.00728523e+02, 3.56680012e+00, 0.00000000e+00,\n",
       "        1.61814690e-01],\n",
       "       [2.51062646e+03, 0.00000000e+00, 2.88585243e+01, 0.00000000e+00,\n",
       "        2.52917290e-01]], dtype=float32)"
      ]
     },
     "execution_count": 4,
     "metadata": {},
     "output_type": "execute_result"
    }
   ],
   "source": [
    "feasible = np.argwhere(np.all(c > 0., axis=1)).ravel()\n",
    "y_feasible = y[feasible]\n",
    "x_feasible = x[feasible]\n",
    "y_feasible"
   ]
  },
  {
   "cell_type": "code",
   "execution_count": 5,
   "metadata": {},
   "outputs": [
    {
     "data": {
      "text/plain": [
       "[<matplotlib.lines.Line2D at 0x7f5045872280>]"
      ]
     },
     "execution_count": 5,
     "metadata": {},
     "output_type": "execute_result"
    },
    {
     "data": {
      "image/png": "[encoded data removed]",
      "text/plain": [
       "<Figure size 432x288 with 1 Axes>"
      ]
     },
     "metadata": {
      "needs_background": "light"
     },
     "output_type": "display_data"
    }
   ],
   "source": [
    "plt.plot(y_feasible[:,0])"
   ]
  },
  {
   "cell_type": "code",
   "execution_count": 6,
   "metadata": {},
   "outputs": [
    {
     "name": "stderr",
     "output_type": "stream",
     "text": [
      "INFO:dmosopt_DG_MC_neuron:Found 1268 feasible solutions\n",
      "INFO:dmosopt_DG_MC_neuron:VGP_Matern: creating regressor for output 1 of 5...\n",
      "INFO:dmosopt_DG_MC_neuron:VGP_Matern: y_0 range is (0.0, 685056.44)...\n",
      "INFO:dmosopt_DG_MC_neuron:VGP_Matern: optimizing regressor for output 1 of 5...\n",
      "INFO:dmosopt_DG_MC_neuron:VGP_Matern: iteration 0 likelihood: -59998.1058\n",
      "INFO:dmosopt_DG_MC_neuron:VGP_Matern: iteration 100 likelihood: -57610.6586\n",
      "INFO:dmosopt_DG_MC_neuron:VGP_Matern: likelihood change at iteration 101 is less than 0.1 percent\n",
      "INFO:dmosopt_DG_MC_neuron:VGP_Matern: creating regressor for output 2 of 5...\n",
      "INFO:dmosopt_DG_MC_neuron:VGP_Matern: y_1 range is (0.0, 51033.22)...\n",
      "INFO:dmosopt_DG_MC_neuron:VGP_Matern: optimizing regressor for output 2 of 5...\n"
     ]
    },
    {
     "name": "stdout",
     "output_type": "stream",
     "text": [
      "╒═════════════════════════╤═══════════╤══════════════════╤═════════╤═════════════╤═════════════════╤═════════╤══════════════════════════════════════════════════════╕\n",
      "│ name                    │ class     │ transform        │ prior   │ trainable   │ shape           │ dtype   │ value                                                │\n",
      "╞═════════════════════════╪═══════════╪══════════════════╪═════════╪═════════════╪═════════════════╪═════════╪══════════════════════════════════════════════════════╡\n",
      "│ VGP.kernel.variance     │ Parameter │ Softplus         │         │ True        │ ()              │ float64 │ 1.8296906713492178                                   │\n",
      "├─────────────────────────┼───────────┼──────────────────┼─────────┼─────────────┼─────────────────┼─────────┼──────────────────────────────────────────────────────┤\n",
      "│ VGP.kernel.lengthscales │ Parameter │ Softplus         │         │ True        │ (12,)           │ float64 │ [0.36179051, 0.40704001, 0.38510157...               │\n",
      "├─────────────────────────┼───────────┼──────────────────┼─────────┼─────────────┼─────────────────┼─────────┼──────────────────────────────────────────────────────┤\n",
      "│ VGP.likelihood.variance │ Parameter │ Softplus + Shift │         │ True        │ ()              │ float64 │ 0.0003258295181936579                                │\n",
      "├─────────────────────────┼───────────┼──────────────────┼─────────┼─────────────┼─────────────────┼─────────┼──────────────────────────────────────────────────────┤\n",
      "│ VGP.q_mu                │ Parameter │ Identity         │         │ False       │ (1268, 1)       │ float64 │ [[-0.14617546...                                     │\n",
      "├─────────────────────────┼───────────┼──────────────────┼─────────┼─────────────┼─────────────────┼─────────┼──────────────────────────────────────────────────────┤\n",
      "│ VGP.q_sqrt              │ Parameter │ FillTriangular   │         │ False       │ (1, 1268, 1268) │ float64 │ [[[1.30412437e-02, 0.00000000e+00, 0.00000000e+00... │\n",
      "╘═════════════════════════╧═══════════╧══════════════════╧═════════╧═════════════╧═════════════════╧═════════╧══════════════════════════════════════════════════════╛\n"
     ]
    },
    {
     "name": "stderr",
     "output_type": "stream",
     "text": [
      "INFO:dmosopt_DG_MC_neuron:VGP_Matern: iteration 0 likelihood: -58736.6630\n",
      "INFO:dmosopt_DG_MC_neuron:VGP_Matern: iteration 100 likelihood: -52446.1272\n",
      "INFO:dmosopt_DG_MC_neuron:VGP_Matern: iteration 200 likelihood: -21919.8594\n",
      "INFO:dmosopt_DG_MC_neuron:VGP_Matern: iteration 300 likelihood: -2353.3244\n",
      "INFO:dmosopt_DG_MC_neuron:VGP_Matern: iteration 400 likelihood: -2018.8922\n",
      "INFO:dmosopt_DG_MC_neuron:VGP_Matern: likelihood change at iteration 415 is less than 0.1 percent\n",
      "INFO:dmosopt_DG_MC_neuron:VGP_Matern: creating regressor for output 3 of 5...\n",
      "INFO:dmosopt_DG_MC_neuron:VGP_Matern: y_2 range is (0.125, 42355.57)...\n",
      "INFO:dmosopt_DG_MC_neuron:VGP_Matern: optimizing regressor for output 3 of 5...\n"
     ]
    },
    {
     "name": "stdout",
     "output_type": "stream",
     "text": [
      "╒═════════════════════════╤═══════════╤══════════════════╤═════════╤═════════════╤═════════════════╤═════════╤══════════════════════════════════════════════════════╕\n",
      "│ name                    │ class     │ transform        │ prior   │ trainable   │ shape           │ dtype   │ value                                                │\n",
      "╞═════════════════════════╪═══════════╪══════════════════╪═════════╪═════════════╪═════════════════╪═════════╪══════════════════════════════════════════════════════╡\n",
      "│ VGP.kernel.variance     │ Parameter │ Softplus         │         │ True        │ ()              │ float64 │ 5.448257081319139                                    │\n",
      "├─────────────────────────┼───────────┼──────────────────┼─────────┼─────────────┼─────────────────┼─────────┼──────────────────────────────────────────────────────┤\n",
      "│ VGP.kernel.lengthscales │ Parameter │ Softplus         │         │ True        │ (12,)           │ float64 │ [0.00048161, 0.00298232, 0.00325757...               │\n",
      "├─────────────────────────┼───────────┼──────────────────┼─────────┼─────────────┼─────────────────┼─────────┼──────────────────────────────────────────────────────┤\n",
      "│ VGP.likelihood.variance │ Parameter │ Softplus + Shift │         │ True        │ ()              │ float64 │ 0.016304464217801167                                 │\n",
      "├─────────────────────────┼───────────┼──────────────────┼─────────┼─────────────┼─────────────────┼─────────┼──────────────────────────────────────────────────────┤\n",
      "│ VGP.q_mu                │ Parameter │ Identity         │         │ False       │ (1268, 1)       │ float64 │ [[-0.08616605...                                     │\n",
      "├─────────────────────────┼───────────┼──────────────────┼─────────┼─────────────┼─────────────────┼─────────┼──────────────────────────────────────────────────────┤\n",
      "│ VGP.q_sqrt              │ Parameter │ FillTriangular   │         │ False       │ (1, 1268, 1268) │ float64 │ [[[5.45264428e-02, 0.00000000e+00, 0.00000000e+00... │\n",
      "╘═════════════════════════╧═══════════╧══════════════════╧═════════╧═════════════╧═════════════════╧═════════╧══════════════════════════════════════════════════════╛\n"
     ]
    },
    {
     "name": "stderr",
     "output_type": "stream",
     "text": [
      "INFO:dmosopt_DG_MC_neuron:VGP_Matern: iteration 0 likelihood: -53836.6220\n",
      "INFO:dmosopt_DG_MC_neuron:VGP_Matern: iteration 100 likelihood: -19047.4773\n",
      "INFO:dmosopt_DG_MC_neuron:VGP_Matern: iteration 200 likelihood: -1243.8347\n",
      "INFO:dmosopt_DG_MC_neuron:VGP_Matern: iteration 300 likelihood: -1033.6070\n",
      "INFO:dmosopt_DG_MC_neuron:VGP_Matern: iteration 400 likelihood: -913.3548\n",
      "INFO:dmosopt_DG_MC_neuron:VGP_Matern: iteration 500 likelihood: -801.3915\n",
      "INFO:dmosopt_DG_MC_neuron:VGP_Matern: iteration 600 likelihood: -687.3849\n",
      "INFO:dmosopt_DG_MC_neuron:VGP_Matern: iteration 700 likelihood: -558.9950\n",
      "INFO:dmosopt_DG_MC_neuron:VGP_Matern: iteration 800 likelihood: -456.0399\n",
      "INFO:dmosopt_DG_MC_neuron:VGP_Matern: iteration 900 likelihood: -390.8255\n",
      "INFO:dmosopt_DG_MC_neuron:VGP_Matern: likelihood change at iteration 989 is less than 0.1 percent\n",
      "INFO:dmosopt_DG_MC_neuron:VGP_Matern: creating regressor for output 4 of 5...\n",
      "INFO:dmosopt_DG_MC_neuron:VGP_Matern: y_3 range is (0.0, 1787.4763)...\n",
      "INFO:dmosopt_DG_MC_neuron:VGP_Matern: optimizing regressor for output 4 of 5...\n"
     ]
    },
    {
     "name": "stdout",
     "output_type": "stream",
     "text": [
      "╒═════════════════════════╤═══════════╤══════════════════╤═════════╤═════════════╤═════════════════╤═════════╤══════════════════════════════════════════════════════╕\n",
      "│ name                    │ class     │ transform        │ prior   │ trainable   │ shape           │ dtype   │ value                                                │\n",
      "╞═════════════════════════╪═══════════╪══════════════════╪═════════╪═════════════╪═════════════════╪═════════╪══════════════════════════════════════════════════════╡\n",
      "│ VGP.kernel.variance     │ Parameter │ Softplus         │         │ True        │ ()              │ float64 │ 4.468388250109801                                    │\n",
      "├─────────────────────────┼───────────┼──────────────────┼─────────┼─────────────┼─────────────────┼─────────┼──────────────────────────────────────────────────────┤\n",
      "│ VGP.kernel.lengthscales │ Parameter │ Softplus         │         │ True        │ (12,)           │ float64 │ [2.94165262e-04, 6.21006839e-02, 7.49788926e-03...   │\n",
      "├─────────────────────────┼───────────┼──────────────────┼─────────┼─────────────┼─────────────────┼─────────┼──────────────────────────────────────────────────────┤\n",
      "│ VGP.likelihood.variance │ Parameter │ Softplus + Shift │         │ True        │ ()              │ float64 │ 0.008079193213418656                                 │\n",
      "├─────────────────────────┼───────────┼──────────────────┼─────────┼─────────────┼─────────────────┼─────────┼──────────────────────────────────────────────────────┤\n",
      "│ VGP.q_mu                │ Parameter │ Identity         │         │ False       │ (1268, 1)       │ float64 │ [[0.51567936...                                      │\n",
      "├─────────────────────────┼───────────┼──────────────────┼─────────┼─────────────┼─────────────────┼─────────┼──────────────────────────────────────────────────────┤\n",
      "│ VGP.q_sqrt              │ Parameter │ FillTriangular   │         │ False       │ (1, 1268, 1268) │ float64 │ [[[4.23134968e-02, 0.00000000e+00, 0.00000000e+00... │\n",
      "╘═════════════════════════╧═══════════╧══════════════════╧═════════╧═════════════╧═════════════════╧═════════╧══════════════════════════════════════════════════════╛\n"
     ]
    },
    {
     "name": "stderr",
     "output_type": "stream",
     "text": [
      "INFO:dmosopt_DG_MC_neuron:VGP_Matern: iteration 0 likelihood: -60322.6653\n",
      "INFO:dmosopt_DG_MC_neuron:VGP_Matern: iteration 100 likelihood: -3371.1932\n",
      "INFO:dmosopt_DG_MC_neuron:VGP_Matern: iteration 200 likelihood: -1364.1550\n",
      "INFO:dmosopt_DG_MC_neuron:VGP_Matern: likelihood change at iteration 295 is less than 0.1 percent\n",
      "INFO:dmosopt_DG_MC_neuron:VGP_Matern: creating regressor for output 5 of 5...\n",
      "INFO:dmosopt_DG_MC_neuron:VGP_Matern: y_4 range is (0.07845443, 45.808456)...\n",
      "INFO:dmosopt_DG_MC_neuron:VGP_Matern: optimizing regressor for output 5 of 5...\n"
     ]
    },
    {
     "name": "stdout",
     "output_type": "stream",
     "text": [
      "╒═════════════════════════╤═══════════╤══════════════════╤═════════╤═════════════╤═════════════════╤═════════╤══════════════════════════════════════════════════════╕\n",
      "│ name                    │ class     │ transform        │ prior   │ trainable   │ shape           │ dtype   │ value                                                │\n",
      "╞═════════════════════════╪═══════════╪══════════════════╪═════════╪═════════════╪═════════════════╪═════════╪══════════════════════════════════════════════════════╡\n",
      "│ VGP.kernel.variance     │ Parameter │ Softplus         │         │ True        │ ()              │ float64 │ 6.24808708552006                                     │\n",
      "├─────────────────────────┼───────────┼──────────────────┼─────────┼─────────────┼─────────────────┼─────────┼──────────────────────────────────────────────────────┤\n",
      "│ VGP.kernel.lengthscales │ Parameter │ Softplus         │         │ True        │ (12,)           │ float64 │ [0.00226743, 0.0060217, 0.01338068...                │\n",
      "├─────────────────────────┼───────────┼──────────────────┼─────────┼─────────────┼─────────────────┼─────────┼──────────────────────────────────────────────────────┤\n",
      "│ VGP.likelihood.variance │ Parameter │ Softplus + Shift │         │ True        │ ()              │ float64 │ 0.018149032372719646                                 │\n",
      "├─────────────────────────┼───────────┼──────────────────┼─────────┼─────────────┼─────────────────┼─────────┼──────────────────────────────────────────────────────┤\n",
      "│ VGP.q_mu                │ Parameter │ Identity         │         │ False       │ (1268, 1)       │ float64 │ [[-0.02724369...                                     │\n",
      "├─────────────────────────┼───────────┼──────────────────┼─────────┼─────────────┼─────────────────┼─────────┼──────────────────────────────────────────────────────┤\n",
      "│ VGP.q_sqrt              │ Parameter │ FillTriangular   │         │ False       │ (1, 1268, 1268) │ float64 │ [[[5.34566707e-02, 0.00000000e+00, 0.00000000e+00... │\n",
      "╘═════════════════════════╧═══════════╧══════════════════╧═════════╧═════════════╧═════════════════╧═════════╧══════════════════════════════════════════════════════╛\n"
     ]
    },
    {
     "name": "stderr",
     "output_type": "stream",
     "text": [
      "INFO:dmosopt_DG_MC_neuron:VGP_Matern: iteration 0 likelihood: -67189.6859\n",
      "INFO:dmosopt_DG_MC_neuron:VGP_Matern: iteration 100 likelihood: 209.5767\n",
      "INFO:dmosopt_DG_MC_neuron:VGP_Matern: iteration 200 likelihood: 363.8663\n",
      "INFO:dmosopt_DG_MC_neuron:VGP_Matern: iteration 300 likelihood: 437.1303\n",
      "INFO:dmosopt_DG_MC_neuron:VGP_Matern: iteration 400 likelihood: 493.3494\n",
      "INFO:dmosopt_DG_MC_neuron:VGP_Matern: likelihood change at iteration 459 is less than 0.1 percent\n"
     ]
    },
    {
     "name": "stdout",
     "output_type": "stream",
     "text": [
      "╒═════════════════════════╤═══════════╤══════════════════╤═════════╤═════════════╤═════════════════╤═════════╤══════════════════════════════════════════════════════╕\n",
      "│ name                    │ class     │ transform        │ prior   │ trainable   │ shape           │ dtype   │ value                                                │\n",
      "╞═════════════════════════╪═══════════╪══════════════════╪═════════╪═════════════╪═════════════════╪═════════╪══════════════════════════════════════════════════════╡\n",
      "│ VGP.kernel.variance     │ Parameter │ Softplus         │         │ True        │ ()              │ float64 │ 5.0808406795483005                                   │\n",
      "├─────────────────────────┼───────────┼──────────────────┼─────────┼─────────────┼─────────────────┼─────────┼──────────────────────────────────────────────────────┤\n",
      "│ VGP.kernel.lengthscales │ Parameter │ Softplus         │         │ True        │ (12,)           │ float64 │ [0.01994613, 0.02960713, 0.01713002...               │\n",
      "├─────────────────────────┼───────────┼──────────────────┼─────────┼─────────────┼─────────────────┼─────────┼──────────────────────────────────────────────────────┤\n",
      "│ VGP.likelihood.variance │ Parameter │ Softplus + Shift │         │ True        │ ()              │ float64 │ 0.0019043105153584796                                │\n",
      "├─────────────────────────┼───────────┼──────────────────┼─────────┼─────────────┼─────────────────┼─────────┼──────────────────────────────────────────────────────┤\n",
      "│ VGP.q_mu                │ Parameter │ Identity         │         │ False       │ (1268, 1)       │ float64 │ [[-0.00923295...                                     │\n",
      "├─────────────────────────┼───────────┼──────────────────┼─────────┼─────────────┼─────────────────┼─────────┼──────────────────────────────────────────────────────┤\n",
      "│ VGP.q_sqrt              │ Parameter │ FillTriangular   │         │ False       │ (1, 1268, 1268) │ float64 │ [[[1.81884814e-02, 0.00000000e+00, 0.00000000e+00... │\n",
      "╘═════════════════════════╧═══════════╧══════════════════╧═════════╧═════════════╧═════════════════╧═════════╧══════════════════════════════════════════════════════╛\n"
     ]
    }
   ],
   "source": [
    "sm = train(n_dim, n_objectives, np.asarray(lo_bounds), np.asarray(hi_bounds), \\\n",
    "            x, y, C=c, surrogate_method='vgp', logger=logger)\n"
   ]
  },
  {
   "cell_type": "code",
   "execution_count": 7,
   "metadata": {},
   "outputs": [
    {
     "data": {
      "text/plain": [
       "['./dmosopt_DG_MC_neuron_20220211_123703.joblib']"
      ]
     },
     "execution_count": 7,
     "metadata": {},
     "output_type": "execute_result"
    }
   ],
   "source": [
    "\n",
    "ts = time.strftime(\"%Y%m%d_%H%M%S\")\n",
    "output_file_path = f'./{opt_id}_{ts}.joblib'\n",
    "            \n",
    "dump(sm, output_file_path)"
   ]
  },
  {
   "cell_type": "code",
   "execution_count": 4,
   "metadata": {},
   "outputs": [],
   "source": [
    "sm = load('./dmosopt_DG_MC_neuron_20220211_123703.joblib')"
   ]
  },
  {
   "cell_type": "code",
   "execution_count": 5,
   "metadata": {},
   "outputs": [
    {
     "data": {
      "text/plain": [
       "(['rn_error',\n",
       "  'tau_error',\n",
       "  'fI_error',\n",
       "  'spike_amplitude_error',\n",
       "  'ISI_adaptation_error'],\n",
       " ['pp',\n",
       "  'Ltotal',\n",
       "  'gc',\n",
       "  'soma_gmax_Na',\n",
       "  'soma_gmax_K',\n",
       "  'soma_g_pas',\n",
       "  'dend_gmax_Ca',\n",
       "  'dend_gmax_KCa',\n",
       "  'dend_gmax_KAHP',\n",
       "  'dend_g_pas',\n",
       "  'dend_d_Caconc',\n",
       "  'cm_ratio'],\n",
       " [0.05, 25.0, 0.1, 0.001, 1e-04, 1e-05, 1e-04, 1e-04, 1e-04, 1e-06, 2.0, 1.0],\n",
       " [0.5, 250.0, 100.0, 0.5, 0.5, 0.001, 0.5, 0.5, 0.1, 0.001, 24.0, 20.0])"
      ]
     },
     "execution_count": 5,
     "metadata": {},
     "output_type": "execute_result"
    }
   ],
   "source": [
    "objective_names, param_names, lo_bounds, hi_bounds"
   ]
  },
  {
   "cell_type": "code",
   "execution_count": 6,
   "metadata": {},
   "outputs": [
    {
     "name": "stderr",
     "output_type": "stream",
     "text": [
      "INFO:dmosopt_DG_MC_neuron:problem: {'num_vars': 12, 'names': ['pp', 'Ltotal', 'gc', 'soma_gmax_Na', 'soma_gmax_K', 'soma_g_pas', 'dend_gmax_Ca', 'dend_gmax_KCa', 'dend_gmax_KAHP', 'dend_g_pas', 'dend_d_Caconc', 'cm_ratio'], 'bounds': [(0.05, 0.5), (25.0, 250.0), (0.1, 100.0), (0.001, 0.5), (1e-04, 0.5), (1e-05, 0.001), (1e-04, 0.5), (1e-04, 0.5), (1e-04, 0.1), (1e-06, 0.001), (2.0, 24.0), (1.0, 20.0)]}\n"
     ]
    }
   ],
   "source": [
    "from SALib.sample import saltelli, fast_sampler\n",
    "from SALib.analyze import sobol\n",
    "\n",
    "bounds = list(zip(lo_bounds, hi_bounds))\n",
    "\n",
    "problem = {\n",
    "  'num_vars': len(param_names),\n",
    "  'names': param_names,\n",
    "  'bounds': bounds\n",
    "}\n",
    "\n",
    "logger.info(f'problem: {problem}')\n",
    "\n",
    "# Generate samples\n",
    "param_values = saltelli.sample(problem, 8192, calc_second_order=True)\n",
    "\n",
    "# Run model (example)\n",
    "Y = sm.evaluate(param_values)\n"
   ]
  },
  {
   "cell_type": "code",
   "execution_count": 7,
   "metadata": {},
   "outputs": [
    {
     "data": {
      "text/plain": [
       "(212992, 12)"
      ]
     },
     "execution_count": 7,
     "metadata": {},
     "output_type": "execute_result"
    }
   ],
   "source": [
    "param_values.shape"
   ]
  },
  {
   "cell_type": "code",
   "execution_count": 8,
   "metadata": {},
   "outputs": [
    {
     "name": "stdout",
     "output_type": "stream",
     "text": [
      "                          ST       ST_conf\n",
      "pp              1.899368e-04  8.591124e-06\n",
      "Ltotal          5.735175e-01  2.440289e-02\n",
      "gc              4.009902e-01  2.092187e-02\n",
      "soma_gmax_Na    3.033241e-04  1.241099e-05\n",
      "soma_gmax_K     3.354087e-04  1.432345e-05\n",
      "soma_g_pas      1.400667e-14  7.215482e-16\n",
      "dend_gmax_Ca    1.663973e-07  7.914950e-09\n",
      "dend_gmax_KCa   2.178732e-04  9.977492e-06\n",
      "dend_gmax_KAHP  3.618778e-07  1.512954e-08\n",
      "dend_g_pas      9.699421e-17  3.597566e-17\n",
      "dend_d_Caconc   1.664216e-01  8.879121e-03\n",
      "cm_ratio        3.900298e-02  1.612619e-03\n",
      "                          S1       S1_conf\n",
      "pp              1.929206e-04  4.377539e-04\n",
      "Ltotal          3.950505e-01  2.602088e-02\n",
      "gc              2.949950e-01  2.299922e-02\n",
      "soma_gmax_Na    2.917852e-04  4.987604e-04\n",
      "soma_gmax_K     3.312885e-04  5.523827e-04\n",
      "soma_g_pas      6.920938e-10  3.501048e-09\n",
      "dend_gmax_Ca    3.638933e-08  1.216929e-05\n",
      "dend_gmax_KCa   2.078269e-04  4.250791e-04\n",
      "dend_gmax_KAHP  1.273057e-07  1.715346e-05\n",
      "dend_g_pas     -1.021409e-10  4.151797e-10\n",
      "dend_d_Caconc   9.168744e-02  1.264034e-02\n",
      "cm_ratio        3.714834e-02  7.154182e-03\n",
      "                                           S2       S2_conf\n",
      "(pp, Ltotal)                    -4.989546e-06  7.338453e-04\n",
      "(pp, gc)                        -1.424604e-06  6.690527e-04\n",
      "(pp, soma_gmax_Na)              -3.025649e-06  5.871461e-04\n",
      "(pp, soma_gmax_K)               -3.029510e-06  5.870243e-04\n",
      "(pp, soma_g_pas)                -3.030535e-06  5.866460e-04\n",
      "...                                       ...           ...\n",
      "(dend_gmax_KAHP, dend_d_Caconc)  1.515651e-08  2.805039e-05\n",
      "(dend_gmax_KAHP, cm_ratio)       7.987877e-09  2.842850e-05\n",
      "(dend_g_pas, dend_d_Caconc)      3.472249e-11  6.471475e-10\n",
      "(dend_g_pas, cm_ratio)           2.147508e-11  6.637904e-10\n",
      "(dend_d_Caconc, cm_ratio)        4.446902e-04  1.675392e-02\n",
      "\n",
      "[66 rows x 2 columns]\n",
      "                          ST       ST_conf\n",
      "pp              2.128159e-02  1.318840e-02\n",
      "Ltotal          8.403709e-01  2.438391e-01\n",
      "gc              8.759143e-01  1.867078e-01\n",
      "soma_gmax_Na    4.069464e-06  1.853147e-06\n",
      "soma_gmax_K     9.704617e-05  6.588250e-05\n",
      "soma_g_pas      6.984490e-14  4.816504e-14\n",
      "dend_gmax_Ca    1.341365e-02  8.335738e-03\n",
      "dend_gmax_KCa   1.787928e-01  7.099886e-02\n",
      "dend_gmax_KAHP  2.154887e-06  1.093504e-06\n",
      "dend_g_pas      6.611645e-14  6.498410e-14\n",
      "dend_d_Caconc   5.330160e-01  4.205156e-01\n",
      "cm_ratio        3.270329e-01  1.984460e-01\n",
      "                          S1       S1_conf\n",
      "pp             -9.687812e-04  2.635538e-03\n",
      "Ltotal          1.495292e-02  2.479345e-02\n",
      "gc              8.751107e-02  6.766362e-02\n",
      "soma_gmax_Na   -1.636464e-06  2.248472e-05\n",
      "soma_gmax_K     1.146623e-04  2.187695e-04\n",
      "soma_g_pas      1.220964e-09  4.889656e-09\n",
      "dend_gmax_Ca   -5.787661e-04  1.355220e-03\n",
      "dend_gmax_KCa  -2.414379e-03  6.067771e-03\n",
      "dend_gmax_KAHP -4.313097e-06  1.614422e-05\n",
      "dend_g_pas      3.100322e-09  3.168149e-09\n",
      "dend_d_Caconc  -2.991952e-03  1.169409e-02\n",
      "cm_ratio       -2.637788e-03  6.230789e-03\n",
      "                                           S2       S2_conf\n",
      "(pp, Ltotal)                    -2.441726e-04  4.551511e-03\n",
      "(pp, gc)                        -5.256945e-03  2.242902e-02\n",
      "(pp, soma_gmax_Na)               4.594619e-03  7.171391e-03\n",
      "(pp, soma_gmax_K)                4.635889e-03  7.232815e-03\n",
      "(pp, soma_g_pas)                 4.596012e-03  7.172084e-03\n",
      "...                                       ...           ...\n",
      "(dend_gmax_KAHP, dend_d_Caconc)  1.905225e-05  4.539543e-05\n",
      "(dend_gmax_KAHP, cm_ratio)       1.103443e-05  2.374907e-05\n",
      "(dend_g_pas, dend_d_Caconc)     -6.984367e-10  6.055102e-09\n",
      "(dend_g_pas, cm_ratio)          -4.433820e-09  7.057793e-09\n",
      "(dend_d_Caconc, cm_ratio)        6.236287e-03  1.277136e-02\n",
      "\n",
      "[66 rows x 2 columns]\n",
      "                          ST       ST_conf\n",
      "pp              2.074775e-01  5.081204e-02\n",
      "Ltotal          5.968347e-01  1.317294e-01\n",
      "gc              7.753618e-01  1.227356e-01\n",
      "soma_gmax_Na    2.573830e-05  5.974167e-06\n",
      "soma_gmax_K     5.461421e-05  1.006886e-05\n",
      "soma_g_pas      1.083783e-12  2.210789e-13\n",
      "dend_gmax_Ca    5.191102e-04  9.805989e-05\n",
      "dend_gmax_KCa   1.081790e-04  2.123672e-05\n",
      "dend_gmax_KAHP  3.422414e-01  9.978340e-02\n",
      "dend_g_pas      7.531290e-13  1.664690e-13\n",
      "dend_d_Caconc   2.616702e-01  5.918341e-02\n",
      "cm_ratio        6.147763e-01  1.166068e-01\n",
      "                          S1       S1_conf\n",
      "pp              9.166507e-04  9.618339e-03\n",
      "Ltotal          4.148376e-02  2.177405e-02\n",
      "gc              1.301613e-01  3.877199e-02\n",
      "soma_gmax_Na    7.627196e-05  1.599651e-04\n",
      "soma_gmax_K    -2.027174e-04  3.536972e-04\n",
      "soma_g_pas     -3.024895e-08  5.259088e-08\n",
      "dend_gmax_Ca    8.016107e-04  1.267127e-03\n",
      "dend_gmax_KCa  -1.060212e-04  4.620666e-04\n",
      "dend_gmax_KAHP  2.807386e-03  1.366876e-02\n",
      "dend_g_pas     -1.840364e-08  4.149877e-08\n",
      "dend_d_Caconc   1.002149e-02  1.327555e-02\n",
      "cm_ratio        6.904506e-02  2.900393e-02\n",
      "                                           S2       S2_conf\n",
      "(pp, Ltotal)                     1.259894e-02  1.577618e-02\n",
      "(pp, gc)                         1.709160e-02  3.321508e-02\n",
      "(pp, soma_gmax_Na)              -5.401007e-03  1.242544e-02\n",
      "(pp, soma_gmax_K)               -5.511991e-03  1.243582e-02\n",
      "(pp, soma_g_pas)                -5.439804e-03  1.242554e-02\n",
      "...                                       ...           ...\n",
      "(dend_gmax_KAHP, dend_d_Caconc)  4.859309e-03  1.796450e-02\n",
      "(dend_gmax_KAHP, cm_ratio)      -7.932049e-03  2.567612e-02\n",
      "(dend_g_pas, dend_d_Caconc)     -2.540469e-09  5.150264e-08\n",
      "(dend_g_pas, cm_ratio)           2.589871e-08  4.523520e-08\n",
      "(dend_d_Caconc, cm_ratio)       -1.758423e-03  2.948002e-02\n",
      "\n",
      "[66 rows x 2 columns]\n",
      "                          ST       ST_conf\n",
      "pp              1.962415e-03  6.092597e-04\n",
      "Ltotal          9.075660e-01  1.753069e-01\n",
      "gc              6.619254e-01  1.732543e-01\n",
      "soma_gmax_Na    8.438859e-05  3.018999e-05\n",
      "soma_gmax_K     4.827465e-04  1.848144e-04\n",
      "soma_g_pas      3.770836e-14  9.564530e-15\n",
      "dend_gmax_Ca    5.902163e-02  2.188716e-02\n",
      "dend_gmax_KCa   4.167243e-02  1.325165e-02\n",
      "dend_gmax_KAHP  2.520743e-02  9.956899e-03\n",
      "dend_g_pas      3.164478e-14  1.031538e-14\n",
      "dend_d_Caconc   7.206125e-01  1.846304e-01\n",
      "cm_ratio        1.042537e-01  4.774152e-02\n",
      "                          S1       S1_conf\n",
      "pp             -3.702082e-04  4.842018e-04\n",
      "Ltotal          4.680647e-02  4.340671e-02\n",
      "gc              6.986889e-04  1.648218e-02\n",
      "soma_gmax_Na   -1.275021e-05  1.188511e-04\n",
      "soma_gmax_K    -1.491731e-04  5.651314e-04\n",
      "soma_g_pas     -5.843730e-10  3.224962e-09\n",
      "dend_gmax_Ca    4.994328e-04  2.560633e-03\n",
      "dend_gmax_KCa  -3.797122e-04  5.601288e-03\n",
      "dend_gmax_KAHP  1.696714e-03  3.405318e-03\n",
      "dend_g_pas      2.309255e-09  2.333979e-09\n",
      "dend_d_Caconc   1.540110e-02  1.438964e-02\n",
      "cm_ratio       -2.293068e-03  4.403310e-03\n",
      "                                           S2       S2_conf\n",
      "(pp, Ltotal)                     3.028877e-03  4.609470e-03\n",
      "(pp, gc)                         2.071303e-03  2.632373e-03\n",
      "(pp, soma_gmax_Na)               6.342717e-04  9.507581e-04\n",
      "(pp, soma_gmax_K)                6.416001e-04  9.500359e-04\n",
      "(pp, soma_g_pas)                 6.347601e-04  9.505492e-04\n",
      "...                                       ...           ...\n",
      "(dend_gmax_KAHP, dend_d_Caconc) -2.825095e-03  7.201082e-03\n",
      "(dend_gmax_KAHP, cm_ratio)      -4.621825e-03  6.298671e-03\n",
      "(dend_g_pas, dend_d_Caconc)     -6.559613e-10  5.146386e-09\n",
      "(dend_g_pas, cm_ratio)          -2.799858e-09  4.269195e-09\n",
      "(dend_d_Caconc, cm_ratio)       -9.735689e-03  1.766637e-02\n",
      "\n",
      "[66 rows x 2 columns]\n",
      "                          ST       ST_conf\n",
      "pp              6.868671e-07  1.120129e-07\n",
      "Ltotal          8.844756e-01  8.391123e-02\n",
      "gc              6.037615e-01  7.052710e-02\n",
      "soma_gmax_Na    1.533247e-11  2.378790e-12\n",
      "soma_gmax_K     2.416184e-08  4.010789e-09\n",
      "soma_g_pas      5.830861e-19  3.251034e-19\n",
      "dend_gmax_Ca    1.134490e-10  2.186373e-11\n",
      "dend_gmax_KCa   1.995105e-09  4.033492e-10\n",
      "dend_gmax_KAHP  1.235342e-13  1.830664e-14\n",
      "dend_g_pas      1.152612e-18  1.225112e-18\n",
      "dend_d_Caconc   2.150101e-01  3.404957e-02\n",
      "cm_ratio        4.821752e-05  5.046855e-06\n",
      "                          S1       S1_conf\n",
      "pp              5.295296e-06  2.778036e-05\n",
      "Ltotal          3.179910e-01  4.777623e-02\n",
      "gc              6.730563e-02  2.944828e-02\n",
      "soma_gmax_Na    2.196742e-08  9.217303e-08\n",
      "soma_gmax_K     6.342987e-07  5.271312e-06\n",
      "soma_g_pas     -1.354210e-11  3.498968e-11\n",
      "dend_gmax_Ca   -6.097463e-08  3.475586e-07\n",
      "dend_gmax_KCa   3.860887e-07  1.580444e-06\n",
      "dend_gmax_KAHP  3.621670e-09  1.094344e-08\n",
      "dend_g_pas      7.876561e-12  8.869748e-12\n",
      "dend_d_Caconc   1.231965e-02  1.098900e-02\n",
      "cm_ratio       -4.970439e-05  2.257676e-04\n",
      "                                           S2       S2_conf\n",
      "(pp, Ltotal)                    -2.336176e-05  6.093680e-05\n",
      "(pp, gc)                        -8.013857e-06  4.209249e-05\n",
      "(pp, soma_gmax_Na)              -5.456055e-06  3.788801e-05\n",
      "(pp, soma_gmax_K)               -5.457100e-06  3.788718e-05\n",
      "(pp, soma_g_pas)                -5.456084e-06  3.788801e-05\n",
      "...                                       ...           ...\n",
      "(dend_gmax_KAHP, dend_d_Caconc) -2.415079e-09  1.410934e-08\n",
      "(dend_gmax_KAHP, cm_ratio)      -3.837630e-09  1.269291e-08\n",
      "(dend_g_pas, dend_d_Caconc)      4.822833e-11  6.245257e-10\n",
      "(dend_g_pas, cm_ratio)           5.017561e-11  6.241902e-10\n",
      "(dend_d_Caconc, cm_ratio)        2.077788e-03  1.934862e-02\n",
      "\n",
      "[66 rows x 2 columns]\n"
     ]
    }
   ],
   "source": [
    "\n",
    "# Perform analysis\n",
    "Sis = list([sobol.analyze(problem, Y[:,i], print_to_console=True) for i in range(Y.shape[1])])\n",
    "# Returns a dictionary with keys 'S1', 'S1_conf', 'ST', and 'ST_conf'\n",
    "# (first and total-order indices with bootstrap confidence intervals)\n"
   ]
  },
  {
   "cell_type": "code",
   "execution_count": 9,
   "metadata": {},
   "outputs": [
    {
     "data": {
      "text/plain": [
       "array([-0.0001322 ,  0.00243029, -0.00085131,  0.0096279 , -0.00757668,\n",
       "        0.00620752,  0.00550908, -0.00401673,  0.00703183, -0.01647113,\n",
       "       -0.00117147, -0.00902507])"
      ]
     },
     "execution_count": 9,
     "metadata": {},
     "output_type": "execute_result"
    }
   ],
   "source": [
    "S1s = np.array([s['S1'] for s in Sis])\n",
    "S1s[0]\n"
   ]
  },
  {
   "cell_type": "code",
   "execution_count": 10,
   "metadata": {},
   "outputs": [
    {
     "data": {
      "text/plain": [
       "array([0.20623735, 0.22852352, 0.08983287, 0.10113502, 0.0817779 ,\n",
       "       0.16823664, 0.24597097, 0.06685797, 0.13324248, 0.1585147 ,\n",
       "       0.10465833, 0.2272546 ])"
      ]
     },
     "execution_count": 10,
     "metadata": {},
     "output_type": "execute_result"
    }
   ],
   "source": [
    "STs = np.array([s['ST'] for s in Sis])\n",
    "STs[2]"
   ]
  },
  {
   "cell_type": "code",
   "execution_count": 11,
   "metadata": {},
   "outputs": [
    {
     "data": {
      "image/png": "[encoded data removed]",
      "text/plain": [
       "<Figure size 432x720 with 5 Axes>"
      ]
     },
     "metadata": {
      "needs_background": "light"
     },
     "output_type": "display_data"
    }
   ],
   "source": [
    "\n",
    "fig = plt.figure(figsize=(6, 10))\n",
    "gs = fig.add_gridspec(len(objective_names), 1)\n",
    "\n",
    "for i, objective_name in enumerate(objective_names):\n",
    "    ax = fig.add_subplot(gs[i, 0])  \n",
    "    ax.bar(np.arange(0, S1s[i].shape[0]), height=S1s[i])\n",
    "    title = (objective_name[:14] + '..') if len(objective_name) > 14 else objective_name\n",
    "    ax.set_title(title, rotation='vertical',x=-0.14,y=0.1)\n",
    "    start, end = ax.get_xlim()\n",
    "    ax.xaxis.set_ticks(np.arange(start+1, end, 1))\n",
    "    if i > 0 and i < len(objective_names)-1:\n",
    "        ax.set_xticklabels([])\n",
    "    else:\n",
    "        ax.set_xticklabels(problem['names'])\n",
    "    ax.xaxis.set_tick_params(rotation=90)\n",
    "    if i == 0:\n",
    "        ax.xaxis.tick_top()\n",
    "\n",
    "plt.show()"
   ]
  },
  {
   "cell_type": "code",
   "execution_count": null,
   "metadata": {},
   "outputs": [],
   "source": []
  },
  {
   "cell_type": "code",
   "execution_count": 16,
   "metadata": {},
   "outputs": [
    {
     "name": "stderr",
     "output_type": "stream",
     "text": [
      "INFO:dmosopt_DG_MC_neuron:problem: {'num_vars': 12, 'names': ['pp', 'Ltotal', 'gc', 'soma_gmax_Na', 'soma_gmax_K', 'soma_g_pas', 'dend_gmax_Ca', 'dend_gmax_KCa', 'dend_gmax_KAHP', 'dend_g_pas', 'dend_d_Caconc', 'cm_ratio'], 'bounds': [(0.05, 0.5), (25.0, 250.0), (0.1, 100.0), (0.001, 0.5), (1e-04, 0.5), (1e-05, 0.001), (1e-04, 0.5), (1e-04, 0.5), (1e-04, 0.1), (1e-06, 0.001), (2.0, 24.0), (1.0, 20.0)]}\n"
     ]
    }
   ],
   "source": [
    "from SALib.sample import fast_sampler\n",
    "from SALib.analyze import fast\n",
    "\n",
    "bounds = list(zip(lo_bounds, hi_bounds))\n",
    "\n",
    "problem = {\n",
    "  'num_vars': len(param_names),\n",
    "  'names': param_names,\n",
    "  'bounds': bounds\n",
    "}\n",
    "\n",
    "logger.info(f'problem: {problem}')\n",
    "\n",
    "# Generate samples\n",
    "param_values = fast_sampler.sample(problem, 10000)\n",
    "\n",
    "# Run model (example)\n",
    "Y = sm.evaluate(param_values)\n"
   ]
  },
  {
   "cell_type": "code",
   "execution_count": 17,
   "metadata": {},
   "outputs": [
    {
     "name": "stdout",
     "output_type": "stream",
     "text": [
      "                          S1        ST   S1_conf   ST_conf\n",
      "pp              2.015382e-04  0.000706  0.000837  0.008586\n",
      "Ltotal          3.250166e-01  0.588758  0.000868  0.008158\n",
      "gc              2.690169e-01  0.367078  0.000820  0.007329\n",
      "soma_gmax_Na    3.207760e-04  0.000997  0.000795  0.008412\n",
      "soma_gmax_K     5.244136e-04  0.001496  0.000710  0.009830\n",
      "soma_g_pas      1.663252e-10  0.000394  0.000761  0.008149\n",
      "dend_gmax_Ca    1.904472e-07  0.000645  0.000820  0.006861\n",
      "dend_gmax_KCa   1.172147e-04  0.000546  0.000872  0.009980\n",
      "dend_gmax_KAHP  4.545047e-07  0.000664  0.000824  0.008044\n",
      "dend_g_pas      2.850211e-10  0.000849  0.000838  0.007653\n",
      "dend_d_Caconc   7.767675e-02  0.147247  0.000735  0.007789\n",
      "cm_ratio        3.896129e-02  0.041498  0.000763  0.008969\n",
      "                          S1        ST   S1_conf   ST_conf\n",
      "pp              1.415416e-04  0.092298  0.000724  0.008207\n",
      "Ltotal          1.932734e-02  0.621824  0.000782  0.008768\n",
      "gc              1.590075e-01  0.874784  0.000743  0.009096\n",
      "soma_gmax_Na    3.726557e-06  0.155615  0.000843  0.008339\n",
      "soma_gmax_K     8.202827e-06  0.180301  0.000818  0.007748\n",
      "soma_g_pas      2.232386e-07  0.039837  0.000883  0.008825\n",
      "dend_gmax_Ca    1.225437e-04  0.280349  0.000855  0.009194\n",
      "dend_gmax_KCa   6.229722e-03  0.076671  0.000735  0.008578\n",
      "dend_gmax_KAHP  8.709958e-05  0.313776  0.000732  0.007623\n",
      "dend_g_pas      4.148112e-05  0.172733  0.000681  0.007461\n",
      "dend_d_Caconc   3.571108e-03  0.535629  0.000714  0.008938\n",
      "cm_ratio        5.302807e-03  0.400656  0.000808  0.008060\n",
      "                          S1        ST   S1_conf   ST_conf\n",
      "pp              2.796215e-03  0.235845  0.000742  0.009652\n",
      "Ltotal          5.047287e-02  0.573810  0.000804  0.007127\n",
      "gc              1.386738e-01  0.771764  0.000678  0.008224\n",
      "soma_gmax_Na    1.779216e-06  0.012811  0.000897  0.008561\n",
      "soma_gmax_K     3.913848e-06  0.012948  0.000777  0.009405\n",
      "soma_g_pas      4.063527e-07  0.010705  0.000867  0.007889\n",
      "dend_gmax_Ca    3.358502e-04  0.017327  0.000777  0.008725\n",
      "dend_gmax_KCa   4.804031e-06  0.010312  0.000882  0.008325\n",
      "dend_gmax_KAHP  1.566878e-02  0.194614  0.000820  0.009726\n",
      "dend_g_pas      6.920601e-07  0.010232  0.000791  0.008657\n",
      "dend_d_Caconc   2.742225e-03  0.162442  0.000789  0.008987\n",
      "cm_ratio        2.147027e-01  0.580397  0.000792  0.008330\n",
      "                          S1        ST   S1_conf   ST_conf\n",
      "pp              6.586447e-05  0.014274  0.000847  0.008553\n",
      "Ltotal          2.435810e-02  0.876376  0.000910  0.009286\n",
      "gc              8.046593e-03  0.661370  0.000857  0.008424\n",
      "soma_gmax_Na    1.044250e-05  0.033674  0.000985  0.007264\n",
      "soma_gmax_K     2.468348e-05  0.021706  0.000857  0.009125\n",
      "soma_g_pas      9.200693e-08  0.040970  0.000722  0.008568\n",
      "dend_gmax_Ca    1.291827e-05  0.078275  0.000748  0.010297\n",
      "dend_gmax_KCa   2.768766e-03  0.129268  0.000818  0.008754\n",
      "dend_gmax_KAHP  1.491982e-03  0.108941  0.000759  0.008781\n",
      "dend_g_pas      4.384602e-07  0.031845  0.000809  0.007514\n",
      "dend_d_Caconc   3.343741e-02  0.706404  0.000761  0.007969\n",
      "cm_ratio        4.807054e-03  0.137610  0.000748  0.007753\n",
      "                          S1        ST   S1_conf   ST_conf\n",
      "pp              1.563064e-08  0.000368  0.000657  0.008626\n",
      "Ltotal          2.770182e-01  0.883277  0.000713  0.008089\n",
      "gc              7.224291e-02  0.598658  0.000706  0.009505\n",
      "soma_gmax_Na    1.971238e-11  0.000463  0.000676  0.009460\n",
      "soma_gmax_K     2.442892e-09  0.000508  0.000771  0.009549\n",
      "soma_g_pas      6.004621e-10  0.000712  0.000765  0.008625\n",
      "dend_gmax_Ca    2.327074e-10  0.001373  0.000677  0.008409\n",
      "dend_gmax_KCa   4.612227e-09  0.000737  0.000754  0.007799\n",
      "dend_gmax_KAHP  5.063189e-10  0.001105  0.000652  0.009066\n",
      "dend_g_pas      5.727735e-11  0.000434  0.000854  0.008873\n",
      "dend_d_Caconc   1.758805e-02  0.191727  0.000732  0.009641\n",
      "cm_ratio        7.012799e-05  0.003421  0.000828  0.009104\n"
     ]
    }
   ],
   "source": [
    "# Perform analysis\n",
    "Sis = list([fast.analyze(problem, Y[:,i], print_to_console=True) for i in range(Y.shape[1])])\n",
    "# Returns a dictionary with keys 'S1', 'S1_conf', 'ST', and 'ST_conf'\n",
    "# (first and total-order indices with bootstrap confidence intervals)\n"
   ]
  },
  {
   "cell_type": "code",
   "execution_count": 18,
   "metadata": {},
   "outputs": [
    {
     "data": {
      "text/plain": [
       "array([2.01538181e-04, 3.25016631e-01, 2.69016926e-01, 3.20775975e-04,\n",
       "       5.24413605e-04, 1.66325234e-10, 1.90447184e-07, 1.17214711e-04,\n",
       "       4.54504737e-07, 2.85021063e-10, 7.76767490e-02, 3.89612864e-02])"
      ]
     },
     "execution_count": 18,
     "metadata": {},
     "output_type": "execute_result"
    }
   ],
   "source": [
    "S1s = np.array([s['S1'] for s in Sis])\n",
    "S1s[0]\n"
   ]
  },
  {
   "cell_type": "code",
   "execution_count": 19,
   "metadata": {},
   "outputs": [
    {
     "data": {
      "text/plain": [
       "array([0.23584502, 0.57380987, 0.77176415, 0.01281129, 0.01294796,\n",
       "       0.01070534, 0.01732732, 0.01031209, 0.19461435, 0.0102325 ,\n",
       "       0.162442  , 0.58039701])"
      ]
     },
     "execution_count": 19,
     "metadata": {},
     "output_type": "execute_result"
    }
   ],
   "source": [
    "STs = np.array([s['ST'] for s in Sis])\n",
    "STs[2]"
   ]
  },
  {
   "cell_type": "code",
   "execution_count": 20,
   "metadata": {},
   "outputs": [
    {
     "data": {
      "image/png": "[encoded data removed]",
      "text/plain": [
       "<Figure size 432x720 with 5 Axes>"
      ]
     },
     "metadata": {
      "needs_background": "light"
     },
     "output_type": "display_data"
    }
   ],
   "source": [
    "fig = plt.figure(figsize=(6, 10))\n",
    "gs = fig.add_gridspec(len(objective_names), 1)\n",
    "\n",
    "for i, objective_name in enumerate(objective_names):\n",
    "    ax = fig.add_subplot(gs[i, 0])  \n",
    "    ax.bar(np.arange(0, S1s[i].shape[0]), height=S1s[i])\n",
    "    title = (objective_name[:14] + '..') if len(objective_name) > 14 else objective_name\n",
    "    ax.set_title(title, rotation='vertical',x=-0.14,y=0.1)\n",
    "    start, end = ax.get_xlim()\n",
    "    ax.xaxis.set_ticks(np.arange(start+1, end, 1))\n",
    "    if i > 0 and i < len(objective_names)-1:\n",
    "        ax.set_xticklabels([])\n",
    "    else:\n",
    "        ax.set_xticklabels(problem['names'])\n",
    "    ax.xaxis.set_tick_params(rotation=90)\n",
    "    if i == 0:\n",
    "        ax.xaxis.tick_top()\n",
    "\n",
    "plt.show()"
   ]
  },
  {
   "cell_type": "code",
   "execution_count": null,
   "metadata": {},
   "outputs": [],
   "source": []
  },
  {
   "cell_type": "code",
   "execution_count": 13,
   "metadata": {},
   "outputs": [
    {
     "name": "stderr",
     "output_type": "stream",
     "text": [
      "INFO:dmosopt_DG_MC_neuron:problem: {'num_vars': 12, 'names': ['pp', 'Ltotal', 'gc', 'soma_gmax_Na', 'soma_gmax_K', 'soma_g_pas', 'dend_gmax_Ca', 'dend_gmax_KCa', 'dend_gmax_KAHP', 'dend_g_pas', 'dend_d_Caconc', 'cm_ratio'], 'bounds': [(0.05, 0.5), (25.0, 250.0), (0.1, 100.0), (0.001, 0.5), (1e-04, 0.5), (1e-05, 0.001), (1e-04, 0.5), (1e-04, 0.5), (1e-04, 0.1), (1e-06, 0.001), (2.0, 24.0), (1.0, 20.0)]}\n"
     ]
    }
   ],
   "source": [
    "from SALib.sample import latin\n",
    "from SALib.analyze import rbd_fast\n",
    "\n",
    "bounds = list(zip(lo_bounds, hi_bounds))\n",
    "\n",
    "problem = {\n",
    "  'num_vars': len(param_names),\n",
    "  'names': param_names,\n",
    "  'bounds': bounds\n",
    "}\n",
    "\n",
    "logger.info(f'problem: {problem}')\n",
    "\n",
    "# Generate samples\n",
    "param_values =  latin.sample(problem, 50000)\n",
    "\n",
    "# Run model (example)\n",
    "Y = sm.evaluate(param_values)\n"
   ]
  },
  {
   "cell_type": "code",
   "execution_count": 14,
   "metadata": {},
   "outputs": [
    {
     "name": "stdout",
     "output_type": "stream",
     "text": [
      "                      S1   S1_conf\n",
      "pp             -0.000009  0.000494\n",
      "Ltotal          0.385542  0.012137\n",
      "gc              0.294960  0.007882\n",
      "soma_gmax_Na    0.000287  0.000770\n",
      "soma_gmax_K     0.000151  0.000509\n",
      "soma_g_pas      0.000035  0.000512\n",
      "dend_gmax_Ca   -0.000171  0.000534\n",
      "dend_gmax_KCa  -0.000021  0.000555\n",
      "dend_gmax_KAHP -0.000008  0.000573\n",
      "dend_g_pas     -0.000096  0.000551\n",
      "dend_d_Caconc   0.088061  0.006056\n",
      "cm_ratio        0.038140  0.004419\n",
      "                      S1   S1_conf\n",
      "pp              0.000137  0.000583\n",
      "Ltotal          0.013058  0.003677\n",
      "gc              0.127956  0.034993\n",
      "soma_gmax_Na    0.000013  0.000631\n",
      "soma_gmax_K    -0.000094  0.000556\n",
      "soma_g_pas     -0.000016  0.000571\n",
      "dend_gmax_Ca   -0.000033  0.000478\n",
      "dend_gmax_KCa   0.002170  0.001312\n",
      "dend_gmax_KAHP  0.000060  0.000628\n",
      "dend_g_pas      0.000125  0.000579\n",
      "dend_d_Caconc   0.001618  0.001063\n",
      "cm_ratio        0.002910  0.001229\n",
      "                      S1   S1_conf\n",
      "pp              0.003000  0.001461\n",
      "Ltotal          0.033160  0.004745\n",
      "gc              0.140111  0.012404\n",
      "soma_gmax_Na    0.000063  0.000543\n",
      "soma_gmax_K    -0.000120  0.000428\n",
      "soma_g_pas      0.000305  0.000523\n",
      "dend_gmax_Ca   -0.000132  0.000606\n",
      "dend_gmax_KCa  -0.000010  0.000520\n",
      "dend_gmax_KAHP  0.000504  0.000810\n",
      "dend_g_pas     -0.000095  0.000442\n",
      "dend_d_Caconc   0.002218  0.001280\n",
      "cm_ratio        0.045556  0.009496\n",
      "                      S1   S1_conf\n",
      "pp              0.000213  0.000632\n",
      "Ltotal          0.020384  0.006030\n",
      "gc              0.005655  0.002504\n",
      "soma_gmax_Na    0.000127  0.000581\n",
      "soma_gmax_K    -0.000075  0.000602\n",
      "soma_g_pas     -0.000183  0.000405\n",
      "dend_gmax_Ca    0.000699  0.000944\n",
      "dend_gmax_KCa   0.000646  0.000774\n",
      "dend_gmax_KAHP  0.000060  0.000735\n",
      "dend_g_pas      0.000039  0.000607\n",
      "dend_d_Caconc   0.011674  0.002200\n",
      "cm_ratio        0.002209  0.001171\n",
      "                      S1   S1_conf\n",
      "pp             -0.000004  0.000573\n",
      "Ltotal          0.314016  0.016148\n",
      "gc              0.070746  0.005036\n",
      "soma_gmax_Na    0.000063  0.000542\n",
      "soma_gmax_K    -0.000050  0.000495\n",
      "soma_g_pas      0.000030  0.000509\n",
      "dend_gmax_Ca   -0.000062  0.000530\n",
      "dend_gmax_KCa  -0.000111  0.000526\n",
      "dend_gmax_KAHP -0.000137  0.000513\n",
      "dend_g_pas      0.000032  0.000622\n",
      "dend_d_Caconc   0.015597  0.001616\n",
      "cm_ratio        0.000004  0.000617\n"
     ]
    }
   ],
   "source": [
    "# Perform analysis\n",
    "Sis = list([rbd_fast.analyze(problem, param_values, Y[:,i], print_to_console=True) for i in range(Y.shape[1])])\n",
    "# Returns a dictionary with keys 'S1', 'S1_conf', 'ST', and 'ST_conf'\n",
    "# (first and total-order indices with bootstrap confidence intervals)\n"
   ]
  },
  {
   "cell_type": "code",
   "execution_count": 15,
   "metadata": {},
   "outputs": [
    {
     "data": {
      "text/plain": [
       "array([-8.51229821e-06,  3.85541525e-01,  2.94959846e-01,  2.87175166e-04,\n",
       "        1.51475965e-04,  3.48617844e-05, -1.70548515e-04, -2.08535918e-05,\n",
       "       -8.44431357e-06, -9.62877447e-05,  8.80608457e-02,  3.81398016e-02])"
      ]
     },
     "execution_count": 15,
     "metadata": {},
     "output_type": "execute_result"
    }
   ],
   "source": [
    "S1s = np.array([s['S1'] for s in Sis])\n",
    "S1s[0]\n"
   ]
  },
  {
   "cell_type": "code",
   "execution_count": 16,
   "metadata": {},
   "outputs": [
    {
     "data": {
      "image/png": "[encoded data removed]",
      "text/plain": [
       "<Figure size 432x720 with 5 Axes>"
      ]
     },
     "metadata": {
      "needs_background": "light"
     },
     "output_type": "display_data"
    }
   ],
   "source": [
    "fig = plt.figure(figsize=(6, 10))\n",
    "gs = fig.add_gridspec(len(objective_names), 1)\n",
    "\n",
    "for i, objective_name in enumerate(objective_names):\n",
    "    ax = fig.add_subplot(gs[i, 0])  \n",
    "    ax.bar(np.arange(0, S1s[i].shape[0]), height=S1s[i])\n",
    "    title = (objective_name[:14] + '..') if len(objective_name) > 14 else objective_name\n",
    "    ax.set_title(title, rotation='vertical',x=-0.14,y=0.1)\n",
    "    start, end = ax.get_xlim()\n",
    "    ax.xaxis.set_ticks(np.arange(start+1, end, 1))\n",
    "    if i > 0 and i < len(objective_names)-1:\n",
    "        ax.set_xticklabels([])\n",
    "    else:\n",
    "        ax.set_xticklabels(problem['names'])\n",
    "    ax.xaxis.set_tick_params(rotation=90)\n",
    "    if i == 0:\n",
    "        ax.xaxis.tick_top()\n",
    "\n",
    "plt.show()"
   ]
  },
  {
   "cell_type": "code",
   "execution_count": null,
   "metadata": {},
   "outputs": [],
   "source": []
  },
  {
   "cell_type": "code",
   "execution_count": 6,
   "metadata": {},
   "outputs": [
    {
     "name": "stderr",
     "output_type": "stream",
     "text": [
      "INFO:dmosopt_DG_MC_neuron:problem: {'num_vars': 12, 'names': ['pp', 'Ltotal', 'gc', 'soma_gmax_Na', 'soma_gmax_K', 'soma_g_pas', 'dend_gmax_Ca', 'dend_gmax_KCa', 'dend_gmax_KAHP', 'dend_g_pas', 'dend_d_Caconc', 'cm_ratio'], 'bounds': [(0.05, 0.5), (25.0, 250.0), (0.1, 100.0), (0.001, 0.5), (1e-04, 0.5), (1e-05, 0.001), (1e-04, 0.5), (1e-04, 0.5), (1e-04, 0.1), (1e-06, 0.001), (2.0, 24.0), (1.0, 20.0)]}\n"
     ]
    }
   ],
   "source": [
    "from SALib.sample import finite_diff\n",
    "from SALib.analyze import dgsm\n",
    "\n",
    "bounds = list(zip(lo_bounds, hi_bounds))\n",
    "\n",
    "problem = {\n",
    "  'num_vars': len(param_names),\n",
    "  'names': param_names,\n",
    "  'bounds': bounds\n",
    "}\n",
    "\n",
    "logger.info(f'problem: {problem}')\n",
    "\n",
    "# Generate samples\n",
    "param_values =  finite_diff.sample(problem, 10000)\n",
    "\n",
    "# Run model (example)\n",
    "Y = sm.evaluate(param_values)\n"
   ]
  },
  {
   "cell_type": "code",
   "execution_count": 7,
   "metadata": {},
   "outputs": [
    {
     "name": "stdout",
     "output_type": "stream",
     "text": [
      "                           vi         vi_std          dgsm    dgsm_conf\n",
      "pp              311307.286294   22365.131570  2.307063e-04   430.163600\n",
      "Ltotal           37879.560491   89753.409367  7.018029e+00  1904.920528\n",
      "gc               33721.332475   64881.491319  1.231632e+00  1269.255402\n",
      "soma_gmax_Na    404306.116501   30987.846093  3.684314e-04   634.612049\n",
      "soma_gmax_K     445426.758429   35249.513858  4.073688e-04   691.371363\n",
      "soma_g_pas         581.545059   20388.160187  2.085927e-12   408.477162\n",
      "dend_gmax_Ca       226.942595     491.201153  2.075523e-07     9.992419\n",
      "dend_gmax_KCa   289423.398670   25218.375923  2.646946e-04   485.016256\n",
      "dend_gmax_KAHP   12078.609043    2507.638976  4.411569e-07    51.105362\n",
      "dend_g_pas         173.910172    5616.857220  6.351864e-13   127.726239\n",
      "dend_d_Caconc   114231.408556  150571.383602  2.023374e-01  2587.659875\n",
      "cm_ratio         35889.719316   16952.752155  4.741573e-02   324.308357\n",
      "                          vi        vi_std          dgsm     dgsm_conf\n",
      "pp              1.737807e+05  3.756531e+06  3.062532e-02  8.588974e+04\n",
      "Ltotal          6.871664e+03  1.371806e+05  3.027478e+02  2.806689e+03\n",
      "gc              1.044530e+04  2.354819e+05  9.072061e+01  5.586818e+03\n",
      "soma_gmax_Na    2.701680e+01  4.784520e+02  5.854490e-06  1.013999e+01\n",
      "soma_gmax_K     6.644261e+02  1.548055e+04  1.444997e-04  2.828874e+02\n",
      "soma_g_pas      3.608000e+03  1.957710e+05  3.077451e-09  4.152020e+03\n",
      "dend_gmax_Ca    5.843456e+04  1.387446e+06  1.270838e-02  2.864950e+04\n",
      "dend_gmax_KCa   4.121764e+06  2.514542e+08  8.964035e-01  4.620428e+06\n",
      "dend_gmax_KAHP  2.840627e+02  6.781460e+03  2.467171e-06  1.367362e+02\n",
      "dend_g_pas      4.263403e+03  3.060019e+05  3.702896e-09  4.718503e+03\n",
      "dend_d_Caconc   7.004043e+03  2.745886e+05  2.950178e+00  5.301673e+03\n",
      "cm_ratio        6.344907e+02  7.198973e+03  1.993364e-01  1.327557e+02\n",
      "                          vi        vi_std          dgsm     dgsm_conf\n",
      "pp              2.649881e+07  1.935085e+08  3.088246e-01  3.379095e+06\n",
      "Ltotal          5.074909e+02  4.513203e+03  1.478610e+00  8.751421e+01\n",
      "gc              2.532201e+04  3.184173e+05  1.454420e+01  6.427023e+03\n",
      "soma_gmax_Na    2.464281e+03  1.207646e+04  3.531440e-05  2.257516e+02\n",
      "soma_gmax_K     5.371074e+03  3.135830e+04  7.724812e-05  5.335463e+02\n",
      "soma_g_pas      3.926100e+06  8.781611e+07  2.214585e-07  1.840548e+06\n",
      "dend_gmax_Ca    5.000990e+04  2.366503e+05  7.192548e-04  4.982159e+03\n",
      "dend_gmax_KCa   1.048543e+04  5.650718e+04  1.508041e-04  1.093885e+03\n",
      "dend_gmax_KAHP  6.992604e+08  7.423990e+09  4.016339e-01  1.539525e+08\n",
      "dend_g_pas      5.485075e+06  1.355957e+08  3.150461e-07  2.765832e+06\n",
      "dend_d_Caconc   1.775397e+04  1.780722e+05  4.945398e-01  3.553026e+03\n",
      "cm_ratio        3.683958e+04  2.610547e+05  7.653892e-01  5.706340e+03\n",
      "                          vi         vi_std          dgsm     dgsm_conf\n",
      "pp                142.764105    1442.651013  2.469667e-03     27.615013\n",
      "Ltotal             32.283377     506.718562  1.396170e+02     10.821376\n",
      "gc                  5.521995      78.081559  4.707836e+00      1.618920\n",
      "soma_gmax_Na        4.605018      53.958687  9.795504e-05      0.984781\n",
      "soma_gmax_K        25.216428     223.026467  5.383245e-04      4.685303\n",
      "soma_g_pas         38.940233    1036.118514  3.260343e-09     19.032265\n",
      "dend_gmax_Ca     3000.228797   37079.224292  6.404938e-02    706.764218\n",
      "dend_gmax_KCa    2470.048054   29593.629117  5.273100e-02    609.971632\n",
      "dend_gmax_KAHP  42598.624235  802166.076884  3.631791e-02  15781.125581\n",
      "dend_g_pas        676.153612   58012.217359  5.764620e-08   1257.856077\n",
      "dend_d_Caconc      80.984044    1136.652231  3.348414e+00     22.587500\n",
      "cm_ratio            4.763735      95.806775  1.469092e-01      1.900572\n",
      "                          vi        vi_std          dgsm     dgsm_conf\n",
      "pp              9.157510e-04  3.436367e-03  8.247796e-07  6.432539e-05\n",
      "Ltotal          2.972820e-02  1.289246e-01  6.693744e+00  2.570847e-03\n",
      "gc              7.204023e-02  3.433122e-01  3.197728e+00  6.140802e-03\n",
      "soma_gmax_Na    2.271560e-08  2.171442e-07  2.515711e-11  4.182313e-09\n",
      "soma_gmax_K     2.621142e-05  9.506859e-05  2.913347e-08  1.773714e-06\n",
      "soma_g_pas      3.787849e-06  1.646822e-04  1.651196e-14  3.338911e-06\n",
      "dend_gmax_Ca    1.358250e-07  9.915195e-07  1.509668e-10  1.921089e-08\n",
      "dend_gmax_KCa   2.292062e-06  1.282622e-05  2.547582e-09  2.746139e-07\n",
      "dend_gmax_KAHP  1.625419e-08  3.905372e-07  7.214923e-13  6.704315e-09\n",
      "dend_g_pas      2.938737e-06  2.257729e-04  1.304449e-14  4.636333e-06\n",
      "dend_d_Caconc   2.263390e-01  1.321118e+00  4.872370e-01  2.494759e-02\n",
      "cm_ratio        4.118733e-05  1.272578e-04  6.613119e-05  2.338363e-06\n"
     ]
    }
   ],
   "source": [
    "# Perform analysis\n",
    "Sis = list([dgsm.analyze(problem, param_values, Y[:,i], print_to_console=True) for i in range(Y.shape[1])])\n",
    "# Returns a dictionary with keys 'S1', 'S1_conf', 'ST', and 'ST_conf'\n",
    "# (first and total-order indices with bootstrap confidence intervals)\n"
   ]
  },
  {
   "cell_type": "code",
   "execution_count": 10,
   "metadata": {},
   "outputs": [
    {
     "data": {
      "text/plain": [
       "array([2.30706328e-04, 7.01802941e+00, 1.23163191e+00, 3.68431405e-04,\n",
       "       4.07368849e-04, 2.08592675e-12, 2.07552290e-07, 2.64694643e-04,\n",
       "       4.41156940e-07, 6.35186432e-13, 2.02337374e-01, 4.74157343e-02])"
      ]
     },
     "execution_count": 10,
     "metadata": {},
     "output_type": "execute_result"
    }
   ],
   "source": [
    "dgsms = np.array([s['dgsm'] for s in Sis])\n",
    "dgsms[0]\n"
   ]
  },
  {
   "cell_type": "code",
   "execution_count": 12,
   "metadata": {},
   "outputs": [
    {
     "data": {
      "image/png": "[encoded data removed]",
      "text/plain": [
       "<Figure size 432x720 with 5 Axes>"
      ]
     },
     "metadata": {
      "needs_background": "light"
     },
     "output_type": "display_data"
    }
   ],
   "source": [
    "fig = plt.figure(figsize=(6, 10))\n",
    "gs = fig.add_gridspec(len(objective_names), 1)\n",
    "\n",
    "for i, objective_name in enumerate(objective_names):\n",
    "    ax = fig.add_subplot(gs[i, 0])  \n",
    "    ax.bar(np.arange(0, dgsms[i].shape[0]), height=dgsms[i])\n",
    "    title = (objective_name[:14] + '..') if len(objective_name) > 14 else objective_name\n",
    "    ax.set_title(title, rotation='vertical',x=-0.14,y=0.1)\n",
    "    start, end = ax.get_xlim()\n",
    "    ax.xaxis.set_ticks(np.arange(start+1, end, 1))\n",
    "    if i > 0 and i < len(objective_names)-1:\n",
    "        ax.set_xticklabels([])\n",
    "    else:\n",
    "        ax.set_xticklabels(problem['names'])\n",
    "    ax.xaxis.set_tick_params(rotation=90)\n",
    "    if i == 0:\n",
    "        ax.xaxis.tick_top()\n",
    "\n",
    "plt.show()"
   ]
  },
  {
   "cell_type": "code",
   "execution_count": null,
   "metadata": {},
   "outputs": [],
   "source": []
  }
 ],
 "metadata": {
  "kernelspec": {
   "display_name": "Python 3",
   "language": "python",
   "name": "python3"
  },
  "language_info": {
   "codemirror_mode": {
    "name": "ipython",
    "version": 3
   },
   "file_extension": ".py",
   "mimetype": "text/x-python",
   "name": "python",
   "nbconvert_exporter": "python",
   "pygments_lexer": "ipython3",
   "version": "3.8.10"
  }
 },
 "nbformat": 4,
 "nbformat_minor": 4
}
